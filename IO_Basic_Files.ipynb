{
  "nbformat": 4,
  "nbformat_minor": 0,
  "metadata": {
    "colab": {
      "name": "IO Basic Files.ipynb",
      "provenance": [],
      "authorship_tag": "ABX9TyO++7PjIkggQkBJffzcQWAd",
      "include_colab_link": true
    },
    "kernelspec": {
      "name": "python3",
      "display_name": "Python 3"
    },
    "language_info": {
      "name": "python"
    }
  },
  "cells": [
    {
      "cell_type": "markdown",
      "metadata": {
        "id": "view-in-github",
        "colab_type": "text"
      },
      "source": [
        "<a href=\"https://colab.research.google.com/github/nak4hara/Complete-Python-3-Bootcamp/blob/master/IO_Basic_Files.ipynb\" target=\"_parent\"><img src=\"https://colab.research.google.com/assets/colab-badge.svg\" alt=\"Open In Colab\"/></a>"
      ]
    },
    {
      "cell_type": "code",
      "metadata": {
        "colab": {
          "base_uri": "https://localhost:8080/"
        },
        "id": "OHU5Jlu8gTml",
        "outputId": "e14a4609-b384-4db4-e873-85c667f4f4dd"
      },
      "source": [
        "%%writefile myfile.txt\n",
        "Hello this is a text file\n",
        "this is the second line\n",
        "this is the third line"
      ],
      "execution_count": null,
      "outputs": [
        {
          "output_type": "stream",
          "text": [
            "Writing myfile.txt\n"
          ],
          "name": "stdout"
        }
      ]
    },
    {
      "cell_type": "code",
      "metadata": {
        "colab": {
          "base_uri": "https://localhost:8080/",
          "height": 36
        },
        "id": "3StKzM7_hvgA",
        "outputId": "21cba82c-9be0-4c99-ac6b-23af9bade16e"
      },
      "source": [
        "myfile = open('myfile.txt')\n",
        "myfile.read()"
      ],
      "execution_count": null,
      "outputs": [
        {
          "output_type": "execute_result",
          "data": {
            "application/vnd.google.colaboratory.intrinsic+json": {
              "type": "string"
            },
            "text/plain": [
              "'Hello this is a text file\\nthis is the second line\\nthis is the third line'"
            ]
          },
          "metadata": {
            "tags": []
          },
          "execution_count": 6
        }
      ]
    },
    {
      "cell_type": "code",
      "metadata": {
        "colab": {
          "base_uri": "https://localhost:8080/",
          "height": 36
        },
        "id": "Mp9LV3x-iUz1",
        "outputId": "6b4fcdd3-4e98-4a1f-a331-5b41cef1e0b6"
      },
      "source": [
        "myfile.seek(0)\n",
        "#works like a cursor, you need to restart before you read again\n",
        "myfile.read()"
      ],
      "execution_count": null,
      "outputs": [
        {
          "output_type": "execute_result",
          "data": {
            "application/vnd.google.colaboratory.intrinsic+json": {
              "type": "string"
            },
            "text/plain": [
              "'Hello this is a text file\\nthis is the second line\\nthis is the third line'"
            ]
          },
          "metadata": {
            "tags": []
          },
          "execution_count": 8
        }
      ]
    },
    {
      "cell_type": "code",
      "metadata": {
        "colab": {
          "base_uri": "https://localhost:8080/"
        },
        "id": "-cN45J9ui-oA",
        "outputId": "ef04f59e-1fb8-499c-abe3-15feb1ae11ca"
      },
      "source": [
        "myfile.seek(0)\n",
        "myfile.readlines()"
      ],
      "execution_count": null,
      "outputs": [
        {
          "output_type": "execute_result",
          "data": {
            "text/plain": [
              "['Hello this is a text file\\n',\n",
              " 'this is the second line\\n',\n",
              " 'this is the third line']"
            ]
          },
          "metadata": {
            "tags": []
          },
          "execution_count": 9
        }
      ]
    },
    {
      "cell_type": "code",
      "metadata": {
        "colab": {
          "base_uri": "https://localhost:8080/",
          "height": 209
        },
        "id": "XEgquTzFjy6D",
        "outputId": "44af03a5-d3fa-42fb-8e7a-61471251720f"
      },
      "source": [
        "pwd\n",
        "#ver o caminho da pasta dentro do pc\n",
        "#para usar file of your pc use open(caminho)"
      ],
      "execution_count": null,
      "outputs": [
        {
          "output_type": "error",
          "ename": "NameError",
          "evalue": "ignored",
          "traceback": [
            "\u001b[0;31m---------------------------------------------------------------------------\u001b[0m",
            "\u001b[0;31mNameError\u001b[0m                                 Traceback (most recent call last)",
            "\u001b[0;32m<ipython-input-11-7279e9c04d23>\u001b[0m in \u001b[0;36m<module>\u001b[0;34m()\u001b[0m\n\u001b[0;32m----> 1\u001b[0;31m \u001b[0mpwd\u001b[0m\u001b[0;34m\u001b[0m\u001b[0;34m\u001b[0m\u001b[0m\n\u001b[0m\u001b[1;32m      2\u001b[0m \u001b[0;31m#ver o caminho da pasta dentro do pc\u001b[0m\u001b[0;34m\u001b[0m\u001b[0;34m\u001b[0m\u001b[0;34m\u001b[0m\u001b[0m\n\u001b[1;32m      3\u001b[0m \u001b[0;31m#para usar file of your pc use open(caminho)\u001b[0m\u001b[0;34m\u001b[0m\u001b[0;34m\u001b[0m\u001b[0;34m\u001b[0m\u001b[0m\n",
            "\u001b[0;31mNameError\u001b[0m: name 'pwd' is not defined"
          ]
        }
      ]
    },
    {
      "cell_type": "code",
      "metadata": {
        "id": "PAukjvglxYE9"
      },
      "source": [
        "with open('myfile.txt', mode='r') as myfile:\n",
        "  contents = myfile.read()"
      ],
      "execution_count": null,
      "outputs": []
    },
    {
      "cell_type": "code",
      "metadata": {
        "id": "R_ei4ID7xue3",
        "colab": {
          "base_uri": "https://localhost:8080/",
          "height": 36
        },
        "outputId": "3d73e537-a3c7-4ec3-ece9-26eac9a577a3"
      },
      "source": [
        "contents"
      ],
      "execution_count": null,
      "outputs": [
        {
          "output_type": "execute_result",
          "data": {
            "application/vnd.google.colaboratory.intrinsic+json": {
              "type": "string"
            },
            "text/plain": [
              "'Hello this is a text file\\nthis is the second line\\nthis is the third line'"
            ]
          },
          "metadata": {
            "tags": []
          },
          "execution_count": 13
        }
      ]
    }
  ]
}