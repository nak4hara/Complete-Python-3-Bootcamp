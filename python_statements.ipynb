{
  "nbformat": 4,
  "nbformat_minor": 0,
  "metadata": {
    "colab": {
      "name": "python_statements.ipynb",
      "provenance": [],
      "authorship_tag": "ABX9TyNo4dPAR37HcqKtAqeFptZr",
      "include_colab_link": true
    },
    "kernelspec": {
      "name": "python3",
      "display_name": "Python 3"
    },
    "language_info": {
      "name": "python"
    }
  },
  "cells": [
    {
      "cell_type": "markdown",
      "metadata": {
        "id": "view-in-github",
        "colab_type": "text"
      },
      "source": [
        "<a href=\"https://colab.research.google.com/github/nak4hara/Complete-Python-3-Bootcamp/blob/master/python_statements.ipynb\" target=\"_parent\"><img src=\"https://colab.research.google.com/assets/colab-badge.svg\" alt=\"Open In Colab\"/></a>"
      ]
    },
    {
      "cell_type": "code",
      "metadata": {
        "colab": {
          "base_uri": "https://localhost:8080/"
        },
        "id": "-3NOul2nP103",
        "outputId": "e655a36b-cae9-4819-d6da-8129402eabf2"
      },
      "source": [
        "hungry = False\n",
        "\n",
        "if hungry:\n",
        "  print(\"Feed me!\")\n",
        "else:\n",
        "  print(\"I'm full\")"
      ],
      "execution_count": 1,
      "outputs": [
        {
          "output_type": "stream",
          "text": [
            "I'm full\n"
          ],
          "name": "stdout"
        }
      ]
    },
    {
      "cell_type": "code",
      "metadata": {
        "colab": {
          "base_uri": "https://localhost:8080/"
        },
        "id": "-A7ERdwjQ3Lw",
        "outputId": "24208e53-f7f7-4aa8-cc82-b9c9cea6cde0"
      },
      "source": [
        "loc = 'Game'\n",
        "\n",
        "if loc == 'Auto Shop':\n",
        "  print(\"Cars are cool!\")\n",
        "elif loc == 'Bank':\n",
        "  print('Money is cool!')\n",
        "else:\n",
        "  print(\"I do not know much\")"
      ],
      "execution_count": null,
      "outputs": [
        {
          "output_type": "stream",
          "text": [
            "I do not know much\n"
          ],
          "name": "stdout"
        }
      ]
    },
    {
      "cell_type": "code",
      "metadata": {
        "id": "gmT03MawQYyc"
      },
      "source": [
        "### FOR ###\n",
        "\n",
        "mylist = [1,2,3,4,5,6,7,8,9,10]"
      ],
      "execution_count": 23,
      "outputs": []
    },
    {
      "cell_type": "code",
      "metadata": {
        "colab": {
          "base_uri": "https://localhost:8080/"
        },
        "id": "nkHV2FmorndA",
        "outputId": "14a7c374-ba0c-4c4e-c293-c5cc30a4c09c"
      },
      "source": [
        "for num in mylist:\n",
        "  print('hello')"
      ],
      "execution_count": 4,
      "outputs": [
        {
          "output_type": "stream",
          "text": [
            "hello\n",
            "hello\n",
            "hello\n",
            "hello\n",
            "hello\n",
            "hello\n",
            "hello\n",
            "hello\n",
            "hello\n",
            "hello\n"
          ],
          "name": "stdout"
        }
      ]
    },
    {
      "cell_type": "code",
      "metadata": {
        "colab": {
          "base_uri": "https://localhost:8080/"
        },
        "id": "l-JYGv99sJOI",
        "outputId": "b5c0fa9f-f7a3-443e-f70c-a4c78de9f066"
      },
      "source": [
        "for num in mylist:\n",
        "  # Check for even\n",
        "  if num % 2 == 0:\n",
        "    print(num)\n",
        "  else:\n",
        "    print(f'Odd Number: {num}')"
      ],
      "execution_count": 9,
      "outputs": [
        {
          "output_type": "stream",
          "text": [
            "Odd Number: 1\n",
            "2\n",
            "Odd Number: 3\n",
            "4\n",
            "Odd Number: 5\n",
            "6\n",
            "Odd Number: 7\n",
            "8\n",
            "Odd Number: 9\n",
            "10\n"
          ],
          "name": "stdout"
        }
      ]
    },
    {
      "cell_type": "code",
      "metadata": {
        "colab": {
          "base_uri": "https://localhost:8080/"
        },
        "id": "CrTLAM-tsxt-",
        "outputId": "ad864262-d3ab-4597-d085-f599a42e8b4c"
      },
      "source": [
        "list_sum = 0\n",
        "\n",
        "for num in mylist:\n",
        "  list_sum += num\n",
        "\n",
        "print(list_sum)"
      ],
      "execution_count": 10,
      "outputs": [
        {
          "output_type": "stream",
          "text": [
            "55\n"
          ],
          "name": "stdout"
        }
      ]
    },
    {
      "cell_type": "code",
      "metadata": {
        "colab": {
          "base_uri": "https://localhost:8080/"
        },
        "id": "kjVz1sw1tIeP",
        "outputId": "075fc661-fee3-481b-f674-b7f059a0b9ef"
      },
      "source": [
        "for _ in 'Hello World':\n",
        "  print('Cool!')"
      ],
      "execution_count": 13,
      "outputs": [
        {
          "output_type": "stream",
          "text": [
            "Cool!\n",
            "Cool!\n",
            "Cool!\n",
            "Cool!\n",
            "Cool!\n",
            "Cool!\n",
            "Cool!\n",
            "Cool!\n",
            "Cool!\n",
            "Cool!\n",
            "Cool!\n"
          ],
          "name": "stdout"
        }
      ]
    },
    {
      "cell_type": "code",
      "metadata": {
        "colab": {
          "base_uri": "https://localhost:8080/"
        },
        "id": "HzvYf2vFt5fe",
        "outputId": "eaeeda36-47c1-4d33-ead0-9ead84514154"
      },
      "source": [
        "mynewlist = [(1,2),(3,4),(5,6),(7,8)]\n",
        "\n",
        "for a,b in mynewlist:\n",
        "  print(b)\n",
        "  \n",
        "# tuple unpacking"
      ],
      "execution_count": 20,
      "outputs": [
        {
          "output_type": "stream",
          "text": [
            "2\n",
            "4\n",
            "6\n",
            "8\n"
          ],
          "name": "stdout"
        }
      ]
    },
    {
      "cell_type": "code",
      "metadata": {
        "id": "TheEEewuxfg8"
      },
      "source": [
        "d = {'k1':1, 'k2':2, 'k3':3}"
      ],
      "execution_count": 21,
      "outputs": []
    },
    {
      "cell_type": "code",
      "metadata": {
        "colab": {
          "base_uri": "https://localhost:8080/"
        },
        "id": "5lv1D0ttxn8N",
        "outputId": "49b20b51-e35b-4983-a4f6-93f34314e93e"
      },
      "source": [
        "for key,value in d.items():\n",
        "  print(value)"
      ],
      "execution_count": 22,
      "outputs": [
        {
          "output_type": "stream",
          "text": [
            "1\n",
            "2\n",
            "3\n"
          ],
          "name": "stdout"
        }
      ]
    },
    {
      "cell_type": "code",
      "metadata": {
        "id": "m5juhT1EyX4a"
      },
      "source": [
        "### WHILE LOOP ###"
      ],
      "execution_count": null,
      "outputs": []
    },
    {
      "cell_type": "code",
      "metadata": {
        "colab": {
          "base_uri": "https://localhost:8080/"
        },
        "id": "o_SKrFNLyaUc",
        "outputId": "ec9480d3-af2d-4490-9f8a-a7d2b56b3e56"
      },
      "source": [
        "x = 0\n",
        "\n",
        "while x < 5:\n",
        "  print(f'the current value of x is {x}')\n",
        "  x += 1\n",
        "else:\n",
        "  print(\"X IS NOT LESS THAN 5\")"
      ],
      "execution_count": 27,
      "outputs": [
        {
          "output_type": "stream",
          "text": [
            "the current value of x is 0\n",
            "the current value of x is 1\n",
            "the current value of x is 2\n",
            "the current value of x is 3\n",
            "the current value of x is 4\n",
            "X IS NOT LESS THAN 5\n"
          ],
          "name": "stdout"
        }
      ]
    },
    {
      "cell_type": "code",
      "metadata": {
        "colab": {
          "base_uri": "https://localhost:8080/"
        },
        "id": "U60buBvTK5EZ",
        "outputId": "ad0cfb2e-e4cb-4cf3-ea3f-432fb296d5a5"
      },
      "source": [
        "x = [1,2.3]\n",
        "\n",
        "for item in x:\n",
        "  pass\n",
        "  #do nothing\n",
        "print('end of my script')"
      ],
      "execution_count": 29,
      "outputs": [
        {
          "output_type": "stream",
          "text": [
            "end of my script\n"
          ],
          "name": "stdout"
        }
      ]
    },
    {
      "cell_type": "code",
      "metadata": {
        "colab": {
          "base_uri": "https://localhost:8080/"
        },
        "id": "QTnlOlfAMPvj",
        "outputId": "ed4c17a2-d288-4db1-e250-023ff9c2e0ed"
      },
      "source": [
        "mystring = 'Sammy'\n",
        "\n",
        "for letter in mystring:\n",
        "  if letter == 'a':\n",
        "    continue\n",
        "    #break\n",
        "  print(letter)"
      ],
      "execution_count": 32,
      "outputs": [
        {
          "output_type": "stream",
          "text": [
            "S\n",
            "m\n",
            "m\n",
            "y\n"
          ],
          "name": "stdout"
        }
      ]
    },
    {
      "cell_type": "code",
      "metadata": {
        "colab": {
          "base_uri": "https://localhost:8080/"
        },
        "id": "-_VqVoEiMtrr",
        "outputId": "c76c6301-ee73-4f5f-f661-d84ddd50dbec"
      },
      "source": [
        "x = 0\n",
        "\n",
        "while x<5:\n",
        "  if x==2:\n",
        "    break\n",
        "  print(x)\n",
        "  x+=1\n"
      ],
      "execution_count": 36,
      "outputs": [
        {
          "output_type": "stream",
          "text": [
            "0\n",
            "1\n"
          ],
          "name": "stdout"
        }
      ]
    }
  ]
}