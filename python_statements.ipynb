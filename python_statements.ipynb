{
  "nbformat": 4,
  "nbformat_minor": 0,
  "metadata": {
    "colab": {
      "name": "python_statements.ipynb",
      "provenance": [],
      "authorship_tag": "ABX9TyNcWAPL4Xzr2HuUNR3pUVJM",
      "include_colab_link": true
    },
    "kernelspec": {
      "name": "python3",
      "display_name": "Python 3"
    },
    "language_info": {
      "name": "python"
    }
  },
  "cells": [
    {
      "cell_type": "markdown",
      "metadata": {
        "id": "view-in-github",
        "colab_type": "text"
      },
      "source": [
        "<a href=\"https://colab.research.google.com/github/nak4hara/Complete-Python-3-Bootcamp/blob/master/python_statements.ipynb\" target=\"_parent\"><img src=\"https://colab.research.google.com/assets/colab-badge.svg\" alt=\"Open In Colab\"/></a>"
      ]
    },
    {
      "cell_type": "code",
      "metadata": {
        "colab": {
          "base_uri": "https://localhost:8080/"
        },
        "id": "-3NOul2nP103",
        "outputId": "ec28ad9e-1506-4156-c837-e2da7e4c3e59"
      },
      "source": [
        "hungry = False\n",
        "\n",
        "if hungry:\n",
        "  print(\"Feed me!\")\n",
        "else:\n",
        "  print(\"I'm full\")"
      ],
      "execution_count": 6,
      "outputs": [
        {
          "output_type": "stream",
          "text": [
            "I'm full\n"
          ],
          "name": "stdout"
        }
      ]
    },
    {
      "cell_type": "code",
      "metadata": {
        "colab": {
          "base_uri": "https://localhost:8080/"
        },
        "id": "-A7ERdwjQ3Lw",
        "outputId": "24208e53-f7f7-4aa8-cc82-b9c9cea6cde0"
      },
      "source": [
        "loc = 'Game'\n",
        "\n",
        "if loc == 'Auto Shop':\n",
        "  print(\"Cars are cool!\")\n",
        "elif loc == 'Bank':\n",
        "  print('Money is cool!')\n",
        "else:\n",
        "  print(\"I do not know much\")"
      ],
      "execution_count": 10,
      "outputs": [
        {
          "output_type": "stream",
          "text": [
            "I do not know much\n"
          ],
          "name": "stdout"
        }
      ]
    },
    {
      "cell_type": "code",
      "metadata": {
        "id": "gmT03MawQYyc"
      },
      "source": [
        ""
      ],
      "execution_count": null,
      "outputs": []
    }
  ]
}